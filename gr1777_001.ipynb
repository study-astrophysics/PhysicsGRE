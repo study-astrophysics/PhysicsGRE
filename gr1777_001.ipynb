{
  "nbformat": 4,
  "nbformat_minor": 0,
  "metadata": {
    "colab": {
      "name": "gr1777-001.ipynb",
      "provenance": [],
      "collapsed_sections": [],
      "authorship_tag": "ABX9TyN/oFfRL4v02XRTj7xGCMme"
    },
    "kernelspec": {
      "name": "python3",
      "display_name": "Python 3"
    },
    "language_info": {
      "name": "python"
    }
  },
  "cells": [
    {
      "cell_type": "markdown",
      "metadata": {
        "id": "vpUo0Q0hd9v_"
      },
      "source": [
        "# [GRE Physics GR 1777 Problem Solution](https://study-astrophysics.com/gr1777/)"
      ]
    },
    {
      "cell_type": "markdown",
      "metadata": {
        "id": "-or5-Q3GeYY6"
      },
      "source": [
        "## 001. Classical Mechanics (Force)"
      ]
    },
    {
      "cell_type": "markdown",
      "metadata": {
        "id": "KESf7wtaemhF"
      },
      "source": [
        "### You should know about"
      ]
    },
    {
      "cell_type": "markdown",
      "metadata": {
        "id": "EQwZgD5jgvAw"
      },
      "source": [
        "- [Newton's Second Law](https://en.wikipedia.org/wiki/Newton%27s_laws_of_motion#Constant_Mass)\n",
        "\n",
        "$$ F = ma $$"
      ]
    },
    {
      "cell_type": "markdown",
      "metadata": {
        "id": "ANcdbcd-erF2"
      },
      "source": [
        "### Solution"
      ]
    },
    {
      "cell_type": "markdown",
      "metadata": {
        "id": "qQK205rXh9jo"
      },
      "source": [
        "The force $F_A$ is\n",
        "\n",
        "$$F_A = m_A a_A.$$\n",
        "\n",
        "Since $m_B = 2m_A$ and $a_B = 2a_A$, thus\n",
        "\n",
        "$$ F_B = m_B a_B = (2m_A)(2a_A) = 4F_A. $$"
      ]
    },
    {
      "cell_type": "markdown",
      "metadata": {
        "id": "imaOftYmimIH"
      },
      "source": [
        "### Answer"
      ]
    },
    {
      "cell_type": "markdown",
      "metadata": {
        "id": "inJRYucrip0c"
      },
      "source": [
        "(E) $F_B = 4F_A$"
      ]
    }
  ]
}