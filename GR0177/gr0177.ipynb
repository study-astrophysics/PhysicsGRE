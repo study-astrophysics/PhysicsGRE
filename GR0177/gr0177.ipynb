{
 "cells": [
  {
   "cell_type": "markdown",
   "id": "45f2d958",
   "metadata": {},
   "source": [
    "# GRE Physics "
   ]
  },
  {
   "cell_type": "markdown",
   "id": "15fdda28",
   "metadata": {},
   "source": [
    "Col1 |Col2 |Col3 |Col4 |Col5 |Col6 |Col7 |Col8 |Col9 |Col10\n",
    "-----|-----|-----|-----|-----|-----|-----|-----|-----|----- \n",
    "Data1|Data2|Data3|Data1|Data2|Data3|Data1|Data2|Data3|Data1\n",
    "Data1|Data2|Data3|Data1|Data2|Data3|Data1|Data2|Data3|Data1\n",
    "Data1|Data2|Data3|Data1|Data2|Data3|Data1|Data2|Data3|Data1\n",
    "Data1|Data2|Data3|Data1|Data2|Data3|Data1|Data2|Data3|Data1\n",
    "-----|-----|-----|-----|-----|-----|-----|-----|-----|----- "
   ]
  },
  {
   "cell_type": "code",
   "execution_count": null,
   "id": "9de4540d",
   "metadata": {},
   "outputs": [],
   "source": []
  }
 ],
 "metadata": {
  "kernelspec": {
   "display_name": "Python 3 (ipykernel)",
   "language": "python",
   "name": "python3"
  },
  "language_info": {
   "codemirror_mode": {
    "name": "ipython",
    "version": 3
   },
   "file_extension": ".py",
   "mimetype": "text/x-python",
   "name": "python",
   "nbconvert_exporter": "python",
   "pygments_lexer": "ipython3",
   "version": "3.9.7"
  }
 },
 "nbformat": 4,
 "nbformat_minor": 5
}
