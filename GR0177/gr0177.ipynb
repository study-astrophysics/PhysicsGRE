{
 "cells": [
  {
   "cell_type": "markdown",
   "id": "45f2d958",
   "metadata": {},
   "source": [
    "# GRE Physics"
   ]
  },
  {
   "cell_type": "markdown",
   "id": "15558666",
   "metadata": {},
   "source": [
    "---"
   ]
  },
  {
   "cell_type": "markdown",
   "id": "d7a0719d",
   "metadata": {},
   "source": [
    "# [GRE Physics GR 0177 Solutions](https://study-astrophysics.com/gr0177/)"
   ]
  },
  {
   "cell_type": "markdown",
   "id": "cae03b4f",
   "metadata": {},
   "source": [
    "---"
   ]
  },
  {
   "cell_type": "markdown",
   "id": "15fdda28",
   "metadata": {},
   "source": [
    "<table width=\"100%\">\n",
    "  <tr>\n",
    "    <th><a href=\"https://study-astrophysics.com/gr0177-001/\">001</a></th>\n",
    "    <th>002</th>\n",
    "    <th>003</th>\n",
    "    <th>004</th>\n",
    "    <th>005</th>\n",
    "    <th>006</th>\n",
    "    <th>007</th>\n",
    "    <th>008</th>\n",
    "    <th>009</th>\n",
    "    <th>010</th>\n",
    "  </tr>\n",
    "  <tr>\n",
    "    <th>011</th>\n",
    "    <th>012</th>\n",
    "    <th>013</th>\n",
    "    <th>014</th>\n",
    "    <th>015</th>\n",
    "    <th>016</th>\n",
    "    <th>017</th>\n",
    "    <th>018</th>\n",
    "    <th>019</th>\n",
    "    <th>020</th>\n",
    "  </tr>\n",
    "    <tr>\n",
    "    <th>021</th>\n",
    "    <th>022</th>\n",
    "    <th>023</th>\n",
    "    <th>024</th>\n",
    "    <th>025</th>\n",
    "    <th>026</th>\n",
    "    <th>027</th>\n",
    "    <th>028</th>\n",
    "    <th>029</th>\n",
    "    <th>030</th>\n",
    "  </tr>\n",
    "    <tr>\n",
    "    <th>031</th>\n",
    "    <th>032</th>\n",
    "    <th>033</th>\n",
    "    <th>034</th>\n",
    "    <th>035</th>\n",
    "    <th>036</th>\n",
    "    <th>037</th>\n",
    "    <th>038</th>\n",
    "    <th>039</th>\n",
    "    <th>040</th>\n",
    "  </tr>\n",
    "    <tr>\n",
    "    <th>041</th>\n",
    "    <th>042</th>\n",
    "    <th>043</th>\n",
    "    <th>044</th>\n",
    "    <th>045</th>\n",
    "    <th>046</th>\n",
    "    <th>047</th>\n",
    "    <th>048</th>\n",
    "    <th>049</th>\n",
    "    <th>050</th>\n",
    "  </tr>\n",
    "    <tr>\n",
    "    <th>061</th>\n",
    "    <th>062</th>\n",
    "    <th>063</th>\n",
    "    <th>064</th>\n",
    "    <th>065</th>\n",
    "    <th>066</th>\n",
    "    <th>067</th>\n",
    "    <th>068</th>\n",
    "    <th>069</th>\n",
    "    <th>070</th>\n",
    "  </tr>\n",
    "    <tr>\n",
    "    <th>071</th>\n",
    "    <th>072</th>\n",
    "    <th>073</th>\n",
    "    <th>074</th>\n",
    "    <th>075</th>\n",
    "    <th>076</th>\n",
    "    <th>077</th>\n",
    "    <th>078</th>\n",
    "    <th>079</th>\n",
    "    <th>080</th>\n",
    "  </tr>\n",
    "    <tr>\n",
    "    <th>081</th>\n",
    "    <th>082</th>\n",
    "    <th>083</th>\n",
    "    <th>084</th>\n",
    "    <th>085</th>\n",
    "    <th>086</th>\n",
    "    <th>087</th>\n",
    "    <th>088</th>\n",
    "    <th>089</th>\n",
    "    <th>090</th>\n",
    "  </tr>\n",
    "    <tr>\n",
    "    <th>091</th>\n",
    "    <th>092</th>\n",
    "    <th>093</th>\n",
    "    <th>094</th>\n",
    "    <th>095</th>\n",
    "    <th>096</th>\n",
    "    <th>097</th>\n",
    "    <th>098</th>\n",
    "    <th>099</th>\n",
    "    <th>100</th>\n",
    "  </tr>\n",
    "</table>\n"
   ]
  },
  {
   "cell_type": "markdown",
   "id": "83cd1887",
   "metadata": {},
   "source": [
    "---"
   ]
  }
 ],
 "metadata": {
  "kernelspec": {
   "display_name": "Python 3 (ipykernel)",
   "language": "python",
   "name": "python3"
  },
  "language_info": {
   "codemirror_mode": {
    "name": "ipython",
    "version": 3
   },
   "file_extension": ".py",
   "mimetype": "text/x-python",
   "name": "python",
   "nbconvert_exporter": "python",
   "pygments_lexer": "ipython3",
   "version": "3.9.7"
  }
 },
 "nbformat": 4,
 "nbformat_minor": 5
}
