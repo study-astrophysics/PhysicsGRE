{
 "cells": [
  {
   "cell_type": "markdown",
   "metadata": {
    "id": "vpUo0Q0hd9v_"
   },
   "source": [
    "# [GRE Physics GR 0177 Problem Solution](https://study-astrophysics.com/gr0177/)"
   ]
  },
  {
   "cell_type": "markdown",
   "metadata": {},
   "source": [
    "---"
   ]
  },
  {
   "cell_type": "markdown",
   "metadata": {
    "id": "-or5-Q3GeYY6"
   },
   "source": [
    "## [001. - (-)](https://study-astrophysics.com/gr0177-xxx/)"
   ]
  },
  {
   "cell_type": "markdown",
   "metadata": {},
   "source": [
    "---"
   ]
  },
  {
   "cell_type": "markdown",
   "metadata": {
    "id": "KESf7wtaemhF"
   },
   "source": [
    "### You should know"
   ]
  },
  {
   "cell_type": "markdown",
   "metadata": {},
   "source": [
    "#### [Ohm's Law](https://study-astrophysics.com/ohms-law/)\n",
    "\n",
    "$$ \\large V = IR $$"
   ]
  },
  {
   "cell_type": "markdown",
   "metadata": {},
   "source": [
    "---"
   ]
  },
  {
   "cell_type": "markdown",
   "metadata": {
    "id": "ANcdbcd-erF2"
   },
   "source": [
    "### Solution"
   ]
  },
  {
   "cell_type": "markdown",
   "metadata": {},
   "source": [
    "Effective resistance in a parallel circuit is\n",
    "$$ \\large \\frac{1}{R_{parallel}} = \\frac{1}{R_1} + \\frac{1}{R_2} = \\frac{1}{1} + \\frac{1}{2} = \\frac{3}{2} \\ \\Omega.$$\n",
    "\n",
    "Thus,\n",
    "\n",
    "$$ \\large R_{parallel} = \\frac{2}{3} \\ \\Omega. $$\n",
    "\n",
    "Then, total resistance in circuit is\n",
    "\n",
    "$$ \\large R_{total} = 1 + \\frac{2}{3} = \\frac{5}{3} \\ \\Omega $$\n",
    "\n",
    "By the Ohm's law, $ V = IR$, the total current is \n",
    "\n",
    "$$ \\large 20 V = \\left( \\frac{5}{3} \\ \\Omega \\right) I, $$\n",
    "\n",
    "$$ \\large \\therefore \\quad I = 12A. $$\n",
    "\n",
    "In a parallel circuit, the current is divided. The ratio of the individual current is the inverse ratio as individual resistance, so\n",
    "\n",
    "$$ \\large R_{1} : R_{2} = 1 : 2 = \\frac{1}{I_{1}} : \\frac{1}{I_{2}}$$\n",
    "\n",
    "Therefore, the current $I$ through the $ 2 \\ \\Omega$ resistor is 4A."
   ]
  },
  {
   "cell_type": "markdown",
   "metadata": {},
   "source": [
    "---"
   ]
  },
  {
   "cell_type": "markdown",
   "metadata": {
    "id": "imaOftYmimIH"
   },
   "source": [
    "### Answer"
   ]
  },
  {
   "cell_type": "markdown",
   "metadata": {},
   "source": [
    "(B) 4 A"
   ]
  }
 ],
 "metadata": {
  "colab": {
   "authorship_tag": "ABX9TyP0x7xyz3pCTONWuernTYGe",
   "collapsed_sections": [],
   "name": "gr1777-002.ipynb",
   "provenance": []
  },
  "kernelspec": {
   "display_name": "Python 3 (ipykernel)",
   "language": "python",
   "name": "python3"
  },
  "language_info": {
   "codemirror_mode": {
    "name": "ipython",
    "version": 3
   },
   "file_extension": ".py",
   "mimetype": "text/x-python",
   "name": "python",
   "nbconvert_exporter": "python",
   "pygments_lexer": "ipython3",
   "version": "3.9.7"
  }
 },
 "nbformat": 4,
 "nbformat_minor": 1
}
