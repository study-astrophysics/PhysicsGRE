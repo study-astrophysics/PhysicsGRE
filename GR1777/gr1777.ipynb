{
 "cells": [
  {
   "cell_type": "markdown",
   "id": "45f2d958",
   "metadata": {},
   "source": [
    "# GRE Physics"
   ]
  },
  {
   "cell_type": "markdown",
   "id": "15558666",
   "metadata": {},
   "source": [
    "---"
   ]
  },
  {
   "cell_type": "markdown",
   "id": "d7a0719d",
   "metadata": {},
   "source": [
    "# [GRE Physics GR1777 Solutions](https://study-astrophysics.com/gr1777/)"
   ]
  },
  {
   "cell_type": "markdown",
   "id": "cae03b4f",
   "metadata": {},
   "source": [
    "---"
   ]
  },
  {
   "cell_type": "markdown",
   "id": "71c2cbf7",
   "metadata": {},
   "source": [
    "[001](https://study-astrophysics.com/gr1777-001/)|[002](https://study-astrophysics.com/gr1777-002/)|[003](https://study-astrophysics.com/gr1777-003/)|[004](https://study-astrophysics.com/gr1777-004/)|[005](https://study-astrophysics.com/gr1777-005/)|[006](https://study-astrophysics.com/gr1777-006/)|[007](https://study-astrophysics.com/gr1777-007/)|[008](https://study-astrophysics.com/gr1777-008/)|[009](https://study-astrophysics.com/gr1777-009/)|[010](https://study-astrophysics.com/gr1777-010/)|\n",
    ":-:|:-:|:-:|:-:|:-:|:-:|:-:|:-:|:-:|:-:\n",
    "[011](https://study-astrophysics.com/gr1777-011/)|[012](https://study-astrophysics.com/gr1777-012/)|[013](https://study-astrophysics.com/gr1777-013/)|[014](https://study-astrophysics.com/gr1777-014/)|[015](https://study-astrophysics.com/gr1777-015/)|[016](https://study-astrophysics.com/gr1777-016/)|[017](https://study-astrophysics.com/gr1777-017/)|[018](https://study-astrophysics.com/gr1777-018/)|[019](https://study-astrophysics.com/gr1777-019/)|[020](https://study-astrophysics.com/gr1777-020/)|\n",
    "[021](https://study-astrophysics.com/gr1777-021/)|[022](https://study-astrophysics.com/gr1777-022/)|[023](https://study-astrophysics.com/gr1777-003/)|[004](https://study-astrophysics.com/gr1777-004/)|[005](https://study-astrophysics.com/gr1777-025/)|[026](https://study-astrophysics.com/gr1777-026/)|[027](https://study-astrophysics.com/gr1777-027/)|[028](https://study-astrophysics.com/gr1777-028/)|[029](https://study-astrophysics.com/gr1777-029/)|[030](https://study-astrophysics.com/gr1777-030/)|\n",
    "[031](https://study-astrophysics.com/gr1777-031/)|[032](https://study-astrophysics.com/gr1777-032/)|[033](https://study-astrophysics.com/gr1777-033/)|[034](https://study-astrophysics.com/gr1777-034/)|[035](https://study-astrophysics.com/gr1777-035/)|[036](https://study-astrophysics.com/gr1777-036/)|[037](https://study-astrophysics.com/gr1777-037/)|[038](https://study-astrophysics.com/gr1777-038/)|[039](https://study-astrophysics.com/gr1777-039/)|[040](https://study-astrophysics.com/gr1777-040/)|\n",
    "[041](https://study-astrophysics.com/gr1777-041/)|[042](https://study-astrophysics.com/gr1777-042/)|[043](https://study-astrophysics.com/gr1777-043/)|044|045|[046](https://study-astrophysics.com/gr1777-046/)|047|048|049|050|\n",
    "051|052|053|054|055|056|057|058|059|060\n",
    "061|062|063|064|065|066|067|068|069|070\n",
    "071|072|073|074|075|076|077|078|079|080\n",
    "081|082|083|084|085|086|087|088|089|090\n",
    "091|092|093|094|095|096|097|098|099|100"
   ]
  },
  {
   "cell_type": "markdown",
   "id": "83cd1887",
   "metadata": {},
   "source": [
    "---"
   ]
  }
 ],
 "metadata": {
  "kernelspec": {
   "display_name": "Python 3 (ipykernel)",
   "language": "python",
   "name": "python3"
  },
  "language_info": {
   "codemirror_mode": {
    "name": "ipython",
    "version": 3
   },
   "file_extension": ".py",
   "mimetype": "text/x-python",
   "name": "python",
   "nbconvert_exporter": "python",
   "pygments_lexer": "ipython3",
   "version": "3.9.7"
  }
 },
 "nbformat": 4,
 "nbformat_minor": 5
}
