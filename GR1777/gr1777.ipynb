{
 "cells": [
  {
   "cell_type": "markdown",
   "id": "45f2d958",
   "metadata": {},
   "source": [
    "# GRE Physics"
   ]
  },
  {
   "cell_type": "markdown",
   "id": "15558666",
   "metadata": {},
   "source": [
    "---"
   ]
  },
  {
   "cell_type": "markdown",
   "id": "d7a0719d",
   "metadata": {},
   "source": [
    "# [GRE Physics GR1777 Solutions](https://study-astrophysics.com/gr1777/)"
   ]
  },
  {
   "cell_type": "markdown",
   "id": "cae03b4f",
   "metadata": {},
   "source": [
    "---"
   ]
  },
  {
   "cell_type": "markdown",
   "id": "15fdda28",
   "metadata": {},
   "source": [
    "<table width=\"100%\">\n",
    "  <tr>\n",
    "    <th><a href=\"https://study-astrophysics.com/gr1777-001/\">001</a></th>\n",
    "    <th><a href=\"https://study-astrophysics.com/gr1777-002/\">002</a></th>\n",
    "    <th><a href=\"https://study-astrophysics.com/gr1777-003/\">003</a></th>\n",
    "    <th><a href=\"https://study-astrophysics.com/gr1777-004/\">004</a></th>\n",
    "    <th><a href=\"https://study-astrophysics.com/gr1777-005/\">005</a></th>\n",
    "    <th><a href=\"https://study-astrophysics.com/gr1777-006/\">006</a></th>\n",
    "    <th><a href=\"https://study-astrophysics.com/gr1777-007/\">007</a></th>\n",
    "    <th><a href=\"https://study-astrophysics.com/gr1777-008/\">008</a></th>\n",
    "    <th><a href=\"https://study-astrophysics.com/gr1777-009/\">009</a></th>\n",
    "    <th><a href=\"https://study-astrophysics.com/gr1777-010/\">010</a></th>\n",
    "  </tr>\n",
    "  <tr>\n",
    "    <th><a href=\"https://study-astrophysics.com/gr1777-011/\">011</a></th>\n",
    "    <th><a href=\"https://study-astrophysics.com/gr1777-012/\">012</a></th>\n",
    "    <th><a href=\"https://study-astrophysics.com/gr1777-013/\">013</a></th>\n",
    "    <th><a href=\"https://study-astrophysics.com/gr1777-014/\">014</a></th>\n",
    "    <th><a href=\"https://study-astrophysics.com/gr1777-015/\">015</a></th>\n",
    "    <th><a href=\"https://study-astrophysics.com/gr1777-016/\">016</a></th>\n",
    "    <th><a href=\"https://study-astrophysics.com/gr1777-017/\">017</a></th>\n",
    "    <th><a href=\"https://study-astrophysics.com/gr1777-018/\">018</a></th>\n",
    "    <th><a href=\"https://study-astrophysics.com/gr1777-019/\">019</a></th>\n",
    "    <th><a href=\"https://study-astrophysics.com/gr1777-020/\">020</a></th>\n",
    "  </tr>\n",
    "    <tr>\n",
    "    <th><a href=\"https://study-astrophysics.com/gr1777-021/\">021</a></th>\n",
    "    <th><a href=\"https://study-astrophysics.com/gr1777-022/\">022</a></th>\n",
    "    <th><a href=\"https://study-astrophysics.com/gr1777-023/\">023</a></th>\n",
    "    <th><a href=\"https://study-astrophysics.com/gr1777-024/\">024</a></th>\n",
    "    <th><a href=\"https://study-astrophysics.com/gr1777-025/\">025</a></th>\n",
    "    <th><a href=\"https://study-astrophysics.com/gr1777-026/\">026</a></th>\n",
    "    <th><a href=\"https://study-astrophysics.com/gr1777-027/\">027</a></th>\n",
    "    <th><a href=\"https://study-astrophysics.com/gr1777-028/\">028</a></th>\n",
    "    <th><a href=\"https://study-astrophysics.com/gr1777-029/\">029</a></th>\n",
    "    <th><a href=\"https://study-astrophysics.com/gr1777-030/\">030</a></th>\n",
    "  </tr>\n",
    "    <tr>\n",
    "    <th><a href=\"https://study-astrophysics.com/gr1777-031/\">031</a></th>\n",
    "    <th><a href=\"https://study-astrophysics.com/gr1777-032/\">032</a></th>\n",
    "    <th><a href=\"https://study-astrophysics.com/gr1777-033/\">033</a></th>\n",
    "    <th><a href=\"https://study-astrophysics.com/gr1777-034/\">034</a></th>\n",
    "    <th><a href=\"https://study-astrophysics.com/gr1777-035/\">035</a></th>\n",
    "    <th><a href=\"https://study-astrophysics.com/gr1777-036/\">036</a></th>\n",
    "    <th><a href=\"https://study-astrophysics.com/gr1777-037/\">037</a></th>\n",
    "    <th><a href=\"https://study-astrophysics.com/gr1777-038/\">038</a></th>\n",
    "    <th><a href=\"https://study-astrophysics.com/gr1777-039/\">039</a></th>\n",
    "    <th><a href=\"https://study-astrophysics.com/gr1777-040/\">040</a></th>\n",
    "  </tr>\n",
    "    <tr>\n",
    "    <th><a href=\"https://study-astrophysics.com/gr1777-041/\">041</a></th>\n",
    "    <th><a href=\"https://study-astrophysics.com/gr1777-042/\">042</a></th>\n",
    "    <th><a href=\"https://study-astrophysics.com/gr1777-043/\">043</a></th>\n",
    "    <th>044</th>\n",
    "    <th>045</th>\n",
    "    <th><a href=\"https://study-astrophysics.com/gr1777-046/\">046</a></th>\n",
    "    <th>047</th>\n",
    "    <th>048</th>\n",
    "    <th>049</th>\n",
    "    <th>050</th>\n",
    "  </tr>\n",
    "    <tr>\n",
    "    <th>061</th>\n",
    "    <th>062</th>\n",
    "    <th>063</th>\n",
    "    <th>064</th>\n",
    "    <th>065</th>\n",
    "    <th>066</th>\n",
    "    <th>067</th>\n",
    "    <th>068</th>\n",
    "    <th>069</th>\n",
    "    <th>070</th>\n",
    "  </tr>\n",
    "    <tr>\n",
    "    <th>071</th>\n",
    "    <th>072</th>\n",
    "    <th>073</th>\n",
    "    <th>074</th>\n",
    "    <th>075</th>\n",
    "    <th>076</th>\n",
    "    <th>077</th>\n",
    "    <th>078</th>\n",
    "    <th>079</th>\n",
    "    <th>080</th>\n",
    "  </tr>\n",
    "    <tr>\n",
    "    <th>081</th>\n",
    "    <th>082</th>\n",
    "    <th>083</th>\n",
    "    <th>084</th>\n",
    "    <th>085</th>\n",
    "    <th>086</th>\n",
    "    <th>087</th>\n",
    "    <th>088</th>\n",
    "    <th>089</th>\n",
    "    <th>090</th>\n",
    "  </tr>\n",
    "    <tr>\n",
    "    <th>091</th>\n",
    "    <th>092</th>\n",
    "    <th>093</th>\n",
    "    <th>094</th>\n",
    "    <th>095</th>\n",
    "    <th>096</th>\n",
    "    <th>097</th>\n",
    "    <th>098</th>\n",
    "    <th>099</th>\n",
    "    <th>100</th>\n",
    "  </tr>\n",
    "</table>\n"
   ]
  },
  {
   "cell_type": "markdown",
   "id": "83cd1887",
   "metadata": {},
   "source": [
    "---"
   ]
  }
 ],
 "metadata": {
  "kernelspec": {
   "display_name": "Python 3 (ipykernel)",
   "language": "python",
   "name": "python3"
  },
  "language_info": {
   "codemirror_mode": {
    "name": "ipython",
    "version": 3
   },
   "file_extension": ".py",
   "mimetype": "text/x-python",
   "name": "python",
   "nbconvert_exporter": "python",
   "pygments_lexer": "ipython3",
   "version": "3.9.7"
  }
 },
 "nbformat": 4,
 "nbformat_minor": 5
}
