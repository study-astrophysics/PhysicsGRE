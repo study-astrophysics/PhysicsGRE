{
 "cells": [
  {
   "cell_type": "markdown",
   "metadata": {
    "id": "vpUo0Q0hd9v_"
   },
   "source": [
    "# [GRE Physics GR 1777 Problem Solution](https://study-astrophysics.com/gr1777/)"
   ]
  },
  {
   "cell_type": "markdown",
   "metadata": {
    "id": "-or5-Q3GeYY6"
   },
   "source": [
    "## [035. Relativity (Time Dilation)](https://study-astrophysics.com/gr1777-035/)"
   ]
  },
  {
   "cell_type": "markdown",
   "metadata": {
    "id": "KESf7wtaemhF"
   },
   "source": [
    "### You should know"
   ]
  },
  {
   "cell_type": "markdown",
   "metadata": {},
   "source": [
    "#### [Time Dilation](https://study-astrophysics.com/time-dilation/)\n",
    "\n",
    "$$ \\large t = \\frac{t_0}{\\sqrt{1-(v/c)^2}} $$\n"
   ]
  },
  {
   "cell_type": "markdown",
   "metadata": {
    "id": "ANcdbcd-erF2"
   },
   "source": [
    "### Solution"
   ]
  },
  {
   "cell_type": "markdown",
   "metadata": {},
   "source": [
    "A particle decays in 2.0$\\mu$s $= 2.0 \\times 10^{-6}$ s.\n",
    "\n",
    "The particle moves at $v = 0.60 c$ in the lab frame, the time dilation is \n",
    "\n",
    "$$ \\large t = \\frac{2.0 \\times 10^{-6}}{\\sqrt{1-(3/5)^2}} = 2.5 \\times 10^{-6} s$$\n",
    "\n",
    "Therefore, before decaying, it will travel in the lab\n",
    "\n",
    "$$ \\large d = (2.5 \\times 10^{-6} s) \\times (0.60 \\times ( 3 \\times 10^{10} m/s )) $$\n",
    "\n",
    "$$ \\large \\therefore d = 450 m $$"
   ]
  },
  {
   "cell_type": "markdown",
   "metadata": {
    "id": "imaOftYmimIH"
   },
   "source": [
    "### Answer"
   ]
  },
  {
   "cell_type": "markdown",
   "metadata": {},
   "source": [
    "(D) 450 m"
   ]
  }
 ],
 "metadata": {
  "colab": {
   "authorship_tag": "ABX9TyP0x7xyz3pCTONWuernTYGe",
   "collapsed_sections": [],
   "name": "gr1777-002.ipynb",
   "provenance": []
  },
  "kernelspec": {
   "display_name": "Python 3 (ipykernel)",
   "language": "python",
   "name": "python3"
  },
  "language_info": {
   "codemirror_mode": {
    "name": "ipython",
    "version": 3
   },
   "file_extension": ".py",
   "mimetype": "text/x-python",
   "name": "python",
   "nbconvert_exporter": "python",
   "pygments_lexer": "ipython3",
   "version": "3.8.2"
  }
 },
 "nbformat": 4,
 "nbformat_minor": 1
}
