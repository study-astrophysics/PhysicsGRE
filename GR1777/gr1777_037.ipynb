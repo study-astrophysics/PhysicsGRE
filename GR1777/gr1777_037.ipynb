{
 "cells": [
  {
   "cell_type": "markdown",
   "metadata": {
    "id": "vpUo0Q0hd9v_"
   },
   "source": [
    "# [GRE Physics GR 1777 Problem Solution](https://study-astrophysics.com/gr1777/)"
   ]
  },
  {
   "cell_type": "markdown",
   "metadata": {
    "id": "-or5-Q3GeYY6"
   },
   "source": [
    "## [037. Electrodynamics (Gauss's Law)](https://study-astrophysics.com/gr1777-037/)"
   ]
  },
  {
   "cell_type": "markdown",
   "metadata": {
    "id": "KESf7wtaemhF"
   },
   "source": [
    "### You should know"
   ]
  },
  {
   "cell_type": "markdown",
   "metadata": {},
   "source": [
    "#### [Gauss's Law](https://study-astrophysics.com/gausss-law/)\n",
    "\n",
    "$$ \\large \\Phi_E = \\oint_S \\vec{E} \\cdot d \\vec{a} = \\frac{Q_\\text{enc}}{\\epsilon_0} $$\n",
    "\n",
    "where\n",
    "\n",
    "$\\Phi_E$: electric flux through a closed surface $S$ enclosing any volume $V$\n",
    "\n",
    "$Q_\\text{enc}$: total charge enclosed within $V$\n",
    "\n",
    "$\\epsilon_0$: electric constant"
   ]
  },
  {
   "cell_type": "markdown",
   "metadata": {
    "id": "ANcdbcd-erF2"
   },
   "source": [
    "### Solution"
   ]
  },
  {
   "cell_type": "markdown",
   "metadata": {},
   "source": [
    "Since the half of the electric flux passes through the $yz$-plane, the total electric flux passes through the $yz$-plane is\n",
    "\n",
    "$$ \\large \\Phi_\\text{E,yz} = \\frac{1}{2} \\Phi_\\text{E,tot} = \\frac{Q}{2\\epsilon_0} $$\n",
    "\n"
   ]
  },
  {
   "cell_type": "markdown",
   "metadata": {
    "id": "imaOftYmimIH"
   },
   "source": [
    "### Answer"
   ]
  },
  {
   "cell_type": "markdown",
   "metadata": {},
   "source": [
    "(D) $ \\large \\frac{Q}{2\\epsilon_0}$"
   ]
  }
 ],
 "metadata": {
  "colab": {
   "authorship_tag": "ABX9TyP0x7xyz3pCTONWuernTYGe",
   "collapsed_sections": [],
   "name": "gr1777-002.ipynb",
   "provenance": []
  },
  "kernelspec": {
   "display_name": "Python 3 (ipykernel)",
   "language": "python",
   "name": "python3"
  },
  "language_info": {
   "codemirror_mode": {
    "name": "ipython",
    "version": 3
   },
   "file_extension": ".py",
   "mimetype": "text/x-python",
   "name": "python",
   "nbconvert_exporter": "python",
   "pygments_lexer": "ipython3",
   "version": "3.8.2"
  }
 },
 "nbformat": 4,
 "nbformat_minor": 1
}
