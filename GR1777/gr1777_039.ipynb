{
 "cells": [
  {
   "cell_type": "markdown",
   "metadata": {
    "id": "vpUo0Q0hd9v_"
   },
   "source": [
    "# [GRE Physics GR 1777 Problem Solution](https://study-astrophysics.com/gr1777/)"
   ]
  },
  {
   "cell_type": "markdown",
   "metadata": {
    "id": "-or5-Q3GeYY6"
   },
   "source": [
    "## [039. Electrodynamics (Coulomb Force)](https://study-astrophysics.com/gr1777-039/)"
   ]
  },
  {
   "cell_type": "markdown",
   "metadata": {
    "id": "KESf7wtaemhF"
   },
   "source": [
    "### You should know"
   ]
  },
  {
   "cell_type": "markdown",
   "metadata": {},
   "source": [
    "#### [Coulomb's Law](https://study-astrophysics.com/coulombs-law)\n",
    "\n",
    "The electrostatics force $\\vec{F}$ between two point charges $q_1$ and $q_2$ is\n",
    "\n",
    "\n",
    "$$ \\large \\vec{F} = k_e \\frac{q_1 q_2}{r^2}\\hat{r} $$\n",
    "\n",
    "where\n",
    "\n",
    "$k_e$: Coulomb's constant $(= \\frac{1}{4\\pi \\epsilon_0})$\n",
    "\n",
    "$q_{1,2}$: point charges\n",
    "\n",
    "$r$: distance between the charges.\n",
    "\n",
    "\n",
    "But in this question, it's not important."
   ]
  },
  {
   "cell_type": "markdown",
   "metadata": {},
   "source": [
    "#### [Vector Sum](https://study-astrophysics.com/coulombs-law)\n",
    "\n",
    "Since the electrostatic force is a vector, the net force is the result of adding all the forces together as vectors."
   ]
  },
  {
   "cell_type": "markdown",
   "metadata": {
    "id": "ANcdbcd-erF2"
   },
   "source": [
    "### Solution"
   ]
  },
  {
   "cell_type": "markdown",
   "metadata": {},
   "source": [
    "$$ \\large \\vec{F}_{d} = k_e \\frac{e^2}{d^2} \\hat{d} $$\n",
    "\n",
    "$$ \\large \\vec{F}_{D} = k_e \\frac{e^2}{D^2} \\hat{D} $$\n",
    "\n",
    "\n",
    "Thus, \n",
    "\n",
    "$$ \\large \\vec{F}_1 = \\vec{F}_{d} + \\vec{F}_{D} $$\n",
    "\n",
    "$$ \\large \\vec{F}_2 = \\vec{F}_{d} - \\vec{F}_{D} $$\n",
    "\n",
    "$$ \\large \\vec{F}_3 = \\sqrt{\\vec{F}^2_{d} + \\vec{F}^2_{D} }$$\n",
    "\n",
    "\n",
    "Therefore,\n",
    "\n",
    "$$ \\large F_1 > F_3 > F_2 $$"
   ]
  },
  {
   "cell_type": "markdown",
   "metadata": {
    "id": "imaOftYmimIH"
   },
   "source": [
    "### Answer"
   ]
  },
  {
   "cell_type": "markdown",
   "metadata": {},
   "source": [
    "(C) $ F_1 > F_3 > F_2 $"
   ]
  }
 ],
 "metadata": {
  "colab": {
   "authorship_tag": "ABX9TyP0x7xyz3pCTONWuernTYGe",
   "collapsed_sections": [],
   "name": "gr1777-002.ipynb",
   "provenance": []
  },
  "kernelspec": {
   "display_name": "Python 3 (ipykernel)",
   "language": "python",
   "name": "python3"
  },
  "language_info": {
   "codemirror_mode": {
    "name": "ipython",
    "version": 3
   },
   "file_extension": ".py",
   "mimetype": "text/x-python",
   "name": "python",
   "nbconvert_exporter": "python",
   "pygments_lexer": "ipython3",
   "version": "3.8.2"
  }
 },
 "nbformat": 4,
 "nbformat_minor": 1
}
