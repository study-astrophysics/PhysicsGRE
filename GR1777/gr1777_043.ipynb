{
 "cells": [
  {
   "cell_type": "markdown",
   "metadata": {
    "id": "vpUo0Q0hd9v_"
   },
   "source": [
    "# [GRE Physics GR 1777 Problem Solution](https://study-astrophysics.com/gr1777/)"
   ]
  },
  {
   "cell_type": "markdown",
   "metadata": {
    "id": "-or5-Q3GeYY6"
   },
   "source": [
    "## [043. Quantum Mechanics (Schrödinger Equation)](https://study-astrophysics.com/gr1777-043/)"
   ]
  },
  {
   "cell_type": "markdown",
   "metadata": {
    "id": "KESf7wtaemhF"
   },
   "source": [
    "### You should know"
   ]
  },
  {
   "cell_type": "markdown",
   "metadata": {},
   "source": [
    "#### Schrödinger Equation\n",
    "\n",
    "#### Wave Equation"
   ]
  },
  {
   "cell_type": "markdown",
   "metadata": {
    "id": "ANcdbcd-erF2"
   },
   "source": [
    "### Heuristic Solution"
   ]
  },
  {
   "cell_type": "markdown",
   "metadata": {},
   "source": [
    "We are looking for a solution to the Schrödinger equation for an electron in the $2s$ state of a hydrogetn atom.\n",
    "\n",
    "Since the wave function of an electron in the $2s$ state is **radially symmetric**, there will be no $\\theta$ or $\\phi$ dependence. In other words, this wave function will only depend on the radius $r$. \n",
    "\n",
    "Options (A), (D), (E) cannot be the answer since they all have angular terms (either $\\theta$ or $\\phi$), thus (B) and (C) could be the answer.\n",
    "\n",
    "However, (B) is the solution for the $1s$ state. Therefore, the answer is (C)."
   ]
  },
  {
   "cell_type": "markdown",
   "metadata": {
    "id": "imaOftYmimIH"
   },
   "source": [
    "### Answer"
   ]
  },
  {
   "cell_type": "markdown",
   "metadata": {},
   "source": [
    "(C) $ c \\left( 1 - \\frac{r}{2a_0} \\right) \\text{exp}\\left(-\\frac{r}{2a_0}\\right) $"
   ]
  }
 ],
 "metadata": {
  "colab": {
   "authorship_tag": "ABX9TyP0x7xyz3pCTONWuernTYGe",
   "collapsed_sections": [],
   "name": "gr1777-002.ipynb",
   "provenance": []
  },
  "kernelspec": {
   "display_name": "Python 3 (ipykernel)",
   "language": "python",
   "name": "python3"
  },
  "language_info": {
   "codemirror_mode": {
    "name": "ipython",
    "version": 3
   },
   "file_extension": ".py",
   "mimetype": "text/x-python",
   "name": "python",
   "nbconvert_exporter": "python",
   "pygments_lexer": "ipython3",
   "version": "3.8.2"
  }
 },
 "nbformat": 4,
 "nbformat_minor": 1
}
