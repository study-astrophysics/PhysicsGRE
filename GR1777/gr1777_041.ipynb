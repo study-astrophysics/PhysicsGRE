{
 "cells": [
  {
   "cell_type": "markdown",
   "metadata": {
    "id": "vpUo0Q0hd9v_"
   },
   "source": [
    "# [GRE Physics GR 1777 Problem Solution](https://study-astrophysics.com/gr1777/)"
   ]
  },
  {
   "cell_type": "markdown",
   "metadata": {
    "id": "-or5-Q3GeYY6"
   },
   "source": [
    "## [041. Laboratory Methods (Fundamental Applications of Probability and Statistics)](https://study-astrophysics.com/gr1777-041/)"
   ]
  },
  {
   "cell_type": "markdown",
   "metadata": {
    "id": "KESf7wtaemhF"
   },
   "source": [
    "### You should know"
   ]
  },
  {
   "cell_type": "markdown",
   "metadata": {},
   "source": [
    "#### Expected Value (Mean number)\n",
    "\n",
    "$$ \\large m = np $$\n",
    "\n",
    "where\n",
    "\n",
    "$m$: mean number\n",
    "\n",
    "$n$: total number of experiments\n",
    "\n",
    "$p$: probability of each experiment yielding a successful result."
   ]
  },
  {
   "cell_type": "markdown",
   "metadata": {},
   "source": [
    "#### Standard Deviation\n",
    "\n",
    "$$ \\large \\sigma = [np(1-p)]^{1/2} $$\n",
    "\n",
    "where\n",
    "\n",
    "$\\sigma$: standard deviation\n",
    "\n",
    "$n$: total number of experiments\n",
    "\n",
    "$p$: probability of each experiment yielding a successful result."
   ]
  },
  {
   "cell_type": "markdown",
   "metadata": {
    "id": "ANcdbcd-erF2"
   },
   "source": [
    "### Solution"
   ]
  },
  {
   "cell_type": "markdown",
   "metadata": {},
   "source": [
    "- Quantum efficiency of a photon detector ($p$) = 0.1\n",
    "- Total number of photons ($n$) = 100"
   ]
  },
  {
   "cell_type": "markdown",
   "metadata": {},
   "source": [
    "#### The average number of photon detected is\n",
    "\n",
    "$$ \\large m = np = 100 \\cdot 0.1 = 10 $$ "
   ]
  },
  {
   "cell_type": "markdown",
   "metadata": {},
   "source": [
    "Note that this is the binomial distribution.\n",
    "\n",
    "#### The rms (standard) deviation is\n",
    "\n",
    "$$ \\large \\sigma = [np(1-p)]^{1/2} = [100 \\ (0.1) \\ (0.9)]^{1/2} = 3 $$"
   ]
  },
  {
   "cell_type": "markdown",
   "metadata": {
    "id": "imaOftYmimIH"
   },
   "source": [
    "### Answer"
   ]
  },
  {
   "cell_type": "markdown",
   "metadata": {},
   "source": [
    "(E) an average of 10 times, with an rms deviation of about 3"
   ]
  }
 ],
 "metadata": {
  "colab": {
   "authorship_tag": "ABX9TyP0x7xyz3pCTONWuernTYGe",
   "collapsed_sections": [],
   "name": "gr1777-002.ipynb",
   "provenance": []
  },
  "kernelspec": {
   "display_name": "Python 3 (ipykernel)",
   "language": "python",
   "name": "python3"
  },
  "language_info": {
   "codemirror_mode": {
    "name": "ipython",
    "version": 3
   },
   "file_extension": ".py",
   "mimetype": "text/x-python",
   "name": "python",
   "nbconvert_exporter": "python",
   "pygments_lexer": "ipython3",
   "version": "3.8.2"
  }
 },
 "nbformat": 4,
 "nbformat_minor": 1
}
