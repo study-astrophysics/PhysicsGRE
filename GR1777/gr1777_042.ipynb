{
 "cells": [
  {
   "cell_type": "markdown",
   "metadata": {
    "id": "vpUo0Q0hd9v_"
   },
   "source": [
    "# [GRE Physics GR 1777 Problem Solution](https://study-astrophysics.com/gr1777/)"
   ]
  },
  {
   "cell_type": "markdown",
   "metadata": {
    "id": "-or5-Q3GeYY6"
   },
   "source": [
    "## [042. Laboratory Methods (Error analysis)](https://study-astrophysics.com/gr1777-042/)"
   ]
  },
  {
   "cell_type": "markdown",
   "metadata": {
    "id": "KESf7wtaemhF"
   },
   "source": [
    "### You should know"
   ]
  },
  {
   "cell_type": "markdown",
   "metadata": {},
   "source": [
    "#### Propagation of Uncertainty"
   ]
  },
  {
   "cell_type": "markdown",
   "metadata": {
    "id": "ANcdbcd-erF2"
   },
   "source": [
    "### Solution"
   ]
  },
  {
   "cell_type": "markdown",
   "metadata": {},
   "source": [
    "- Uncertainty in the speed of the ball: 10 %\n",
    "\n",
    "If the measured speed was $v$, then the possible maximum and minimum speeds would be $1.1v$ and $0.9v$, respectively.\n",
    "\n",
    "Using those speeds, let's calculate the kinetic energy and see the uncertainty in it.\n",
    "\n",
    "- Kinetic energy = $\\frac{1}{2} mv^2$\n",
    "\n",
    "- Maximum possible kinetic energy = $ \\frac{1}{2} m(1.1v)^2 = 1.21 \\frac{1}{2}mv^2$\n",
    "\n",
    "- Minimum possible kinetic energy = $ \\frac{1}{2} m(0.9v)^2 = 0.81 \\frac{1}{2}mv^2$\n",
    "\n",
    "The difference between them is $(1.21 - 0.81) \\frac{1}{2} mv^2 = 0.4 \\frac{1}{2} mv^2$\n",
    "\n",
    "Thus the uncertainty is \n",
    "\n",
    "$$ \\large \\text{Uncertainty} =  \\frac{1}{2} \\frac{0.4 \\frac{1}{2} mv^2}{\\frac{1}{2} mv^2} = 0.2$$\n",
    "\n",
    "Therefore, the answer is 20%."
   ]
  },
  {
   "cell_type": "markdown",
   "metadata": {
    "id": "imaOftYmimIH"
   },
   "source": [
    "### Answer"
   ]
  },
  {
   "cell_type": "markdown",
   "metadata": {},
   "source": [
    "(D) 20%"
   ]
  }
 ],
 "metadata": {
  "colab": {
   "authorship_tag": "ABX9TyP0x7xyz3pCTONWuernTYGe",
   "collapsed_sections": [],
   "name": "gr1777-002.ipynb",
   "provenance": []
  },
  "kernelspec": {
   "display_name": "Python 3 (ipykernel)",
   "language": "python",
   "name": "python3"
  },
  "language_info": {
   "codemirror_mode": {
    "name": "ipython",
    "version": 3
   },
   "file_extension": ".py",
   "mimetype": "text/x-python",
   "name": "python",
   "nbconvert_exporter": "python",
   "pygments_lexer": "ipython3",
   "version": "3.8.2"
  }
 },
 "nbformat": 4,
 "nbformat_minor": 1
}
