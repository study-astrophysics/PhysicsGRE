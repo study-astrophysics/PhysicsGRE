{
 "cells": [
  {
   "cell_type": "markdown",
   "metadata": {
    "id": "vpUo0Q0hd9v_"
   },
   "source": [
    "# [GRE Physics GR 1777 Problem Solution](https://study-astrophysics.com/gr1777/)"
   ]
  },
  {
   "cell_type": "markdown",
   "metadata": {
    "id": "-or5-Q3GeYY6"
   },
   "source": [
    "## [040. Electrodynamics (RLC Circuit)](https://study-astrophysics.com/gr1777-040/)"
   ]
  },
  {
   "cell_type": "markdown",
   "metadata": {
    "id": "KESf7wtaemhF"
   },
   "source": [
    "### You should know"
   ]
  },
  {
   "cell_type": "markdown",
   "metadata": {},
   "source": [
    "- #### Ths only element that dissipates the energy in the circuit is the resistor.\n",
    "\n",
    "- #### Power Dissipated\n",
    "\n",
    "$$ \\large \\begin{split} P & = V_{\\text{rms}} \\ I_{\\text{rms}} \\cos \\phi \\\\ \n",
    "& = I^2_{\\text{rms}} Z \\cos \\phi \\\\\n",
    "& = I^2_{\\text{rms}} R\n",
    "\\end{split}$$"
   ]
  },
  {
   "cell_type": "markdown",
   "metadata": {
    "id": "ANcdbcd-erF2"
   },
   "source": [
    "### Solution"
   ]
  },
  {
   "cell_type": "markdown",
   "metadata": {},
   "source": [
    "The power dissipated in the RLC circuit is\n",
    "\n",
    "$$ \\large \\begin{split} P & = V_{\\text{rms}} \\ I_{\\text{rms}} \\cos \\phi \\\\ \n",
    "& = I^2_{\\text{rms}} Z \\cos \\phi \\\\\n",
    "& = I^2_{\\text{rms}} R\n",
    "\\end{split}$$"
   ]
  },
  {
   "cell_type": "markdown",
   "metadata": {
    "id": "imaOftYmimIH"
   },
   "source": [
    "### Answer"
   ]
  },
  {
   "cell_type": "markdown",
   "metadata": {},
   "source": [
    "(A) $ I_{\\text{rms}}^2 R $"
   ]
  }
 ],
 "metadata": {
  "colab": {
   "authorship_tag": "ABX9TyP0x7xyz3pCTONWuernTYGe",
   "collapsed_sections": [],
   "name": "gr1777-002.ipynb",
   "provenance": []
  },
  "kernelspec": {
   "display_name": "Python 3 (ipykernel)",
   "language": "python",
   "name": "python3"
  },
  "language_info": {
   "codemirror_mode": {
    "name": "ipython",
    "version": 3
   },
   "file_extension": ".py",
   "mimetype": "text/x-python",
   "name": "python",
   "nbconvert_exporter": "python",
   "pygments_lexer": "ipython3",
   "version": "3.8.2"
  }
 },
 "nbformat": 4,
 "nbformat_minor": 1
}
