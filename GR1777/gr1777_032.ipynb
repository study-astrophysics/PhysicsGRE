{
 "cells": [
  {
   "cell_type": "markdown",
   "metadata": {
    "id": "vpUo0Q0hd9v_"
   },
   "source": [
    "# [GRE Physics GR 1777 Problem Solution](https://study-astrophysics.com/gr1777/)"
   ]
  },
  {
   "cell_type": "markdown",
   "metadata": {
    "id": "-or5-Q3GeYY6"
   },
   "source": [
    "## [032. Optics (Magnification)](https://study-astrophysics.com/gr1777-032/)"
   ]
  },
  {
   "cell_type": "markdown",
   "metadata": {
    "id": "KESf7wtaemhF"
   },
   "source": [
    "### You should know"
   ]
  },
  {
   "cell_type": "markdown",
   "metadata": {},
   "source": [
    "- [Magnification](https://study-astrophysics.com/magnification/)\n",
    "\n",
    "$$ \\large M = \\frac{f_o}{f_e} $$\n",
    "\n",
    "where\n",
    "\n",
    "$f_o$: focal length of the objective lense in a refractor or of the primary mirror in a reflector\n",
    "\n",
    "$f_e$: focal length of the eyepiece"
   ]
  },
  {
   "cell_type": "markdown",
   "metadata": {
    "id": "ANcdbcd-erF2"
   },
   "source": [
    "### Solution"
   ]
  },
  {
   "cell_type": "markdown",
   "metadata": {},
   "source": [
    "The separation between two lenses is 100 cm. \n",
    "\n",
    "Since the eye-piece lense has a focal length of 20 cm, the focal length of the objectiec lense is 80 cm.\n",
    "\n",
    "The angular magnification is\n",
    "\n",
    "$$ \\large M = \\frac{f_o}{f_e} = \\frac{80 \\ \\text{cm}}{20 \\ \\text{cm}} = 4 $$"
   ]
  },
  {
   "cell_type": "markdown",
   "metadata": {
    "id": "imaOftYmimIH"
   },
   "source": [
    "### Answer"
   ]
  },
  {
   "cell_type": "markdown",
   "metadata": {},
   "source": [
    "(A) 4"
   ]
  }
 ],
 "metadata": {
  "colab": {
   "authorship_tag": "ABX9TyP0x7xyz3pCTONWuernTYGe",
   "collapsed_sections": [],
   "name": "gr1777-002.ipynb",
   "provenance": []
  },
  "kernelspec": {
   "display_name": "Python 3 (ipykernel)",
   "language": "python",
   "name": "python3"
  },
  "language_info": {
   "codemirror_mode": {
    "name": "ipython",
    "version": 3
   },
   "file_extension": ".py",
   "mimetype": "text/x-python",
   "name": "python",
   "nbconvert_exporter": "python",
   "pygments_lexer": "ipython3",
   "version": "3.8.2"
  }
 },
 "nbformat": 4,
 "nbformat_minor": 1
}
