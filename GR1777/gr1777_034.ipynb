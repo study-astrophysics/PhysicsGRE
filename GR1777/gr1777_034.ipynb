{
 "cells": [
  {
   "cell_type": "markdown",
   "metadata": {
    "id": "vpUo0Q0hd9v_"
   },
   "source": [
    "# [GRE Physics GR 1777 Problem Solution](https://study-astrophysics.com/gr1777/)"
   ]
  },
  {
   "cell_type": "markdown",
   "metadata": {
    "id": "-or5-Q3GeYY6"
   },
   "source": [
    "## [034. Relativity (Length Contraction)](https://study-astrophysics.com/gr1777-034/)"
   ]
  },
  {
   "cell_type": "markdown",
   "metadata": {
    "id": "KESf7wtaemhF"
   },
   "source": [
    "### You should know"
   ]
  },
  {
   "cell_type": "markdown",
   "metadata": {},
   "source": [
    "- [Length Contraction](https://study-astrophysics.com/length-contraction/)\n",
    "\n",
    "$$ \\large L = L_0 \\sqrt{1-(v/c)^2} $$\n",
    "\n"
   ]
  },
  {
   "cell_type": "markdown",
   "metadata": {
    "id": "ANcdbcd-erF2"
   },
   "source": [
    "### Solution"
   ]
  },
  {
   "cell_type": "markdown",
   "metadata": {},
   "source": [
    "A rod measures 1.00 m in its rest system. To make it 0.80 m, an observer must move parallel to the rod at a speed of\n",
    "\n",
    "$$ \\large 0.8 = 1.0 \\sqrt{1 - (v/c)^2} $$\n",
    "\n",
    "$$ \\large 1 - \\left( \\frac{v}{c} \\right)^2 = \\left( \\frac{4}{5} \\right)^2 $$\n",
    "\n",
    "$$ \\large \\therefore v = 0.60c $$"
   ]
  },
  {
   "cell_type": "markdown",
   "metadata": {
    "id": "imaOftYmimIH"
   },
   "source": [
    "### Answer"
   ]
  },
  {
   "cell_type": "markdown",
   "metadata": {},
   "source": [
    "(B) 0.60$c$"
   ]
  }
 ],
 "metadata": {
  "colab": {
   "authorship_tag": "ABX9TyP0x7xyz3pCTONWuernTYGe",
   "collapsed_sections": [],
   "name": "gr1777-002.ipynb",
   "provenance": []
  },
  "kernelspec": {
   "display_name": "Python 3 (ipykernel)",
   "language": "python",
   "name": "python3"
  },
  "language_info": {
   "codemirror_mode": {
    "name": "ipython",
    "version": 3
   },
   "file_extension": ".py",
   "mimetype": "text/x-python",
   "name": "python",
   "nbconvert_exporter": "python",
   "pygments_lexer": "ipython3",
   "version": "3.8.2"
  }
 },
 "nbformat": 4,
 "nbformat_minor": 1
}
