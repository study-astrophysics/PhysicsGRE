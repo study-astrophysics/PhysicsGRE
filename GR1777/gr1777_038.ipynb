{
 "cells": [
  {
   "cell_type": "markdown",
   "metadata": {
    "id": "vpUo0Q0hd9v_"
   },
   "source": [
    "# [GRE Physics GR 1777 Problem Solution](https://study-astrophysics.com/gr1777/)"
   ]
  },
  {
   "cell_type": "markdown",
   "metadata": {
    "id": "-or5-Q3GeYY6"
   },
   "source": [
    "## [038. Electrodynamics (Electric Potential)](https://study-astrophysics.com/gr1777-038/)"
   ]
  },
  {
   "cell_type": "markdown",
   "metadata": {
    "id": "KESf7wtaemhF"
   },
   "source": [
    "### You should know"
   ]
  },
  {
   "cell_type": "markdown",
   "metadata": {},
   "source": [
    "#### [Electric Potential](https://study-astrophysics.com/electric-potential/)\n",
    "\n",
    "- For a point charge,\n",
    "\n",
    "$$ \\large V = \\frac{1}{4 \\pi \\epsilon_0} \\frac{Q}{r} $$\n",
    "\n",
    "where \n",
    "\n",
    "$Q$: point charge\n",
    "\n",
    "$r$: distance\n",
    "\n",
    "- In a conductor,\n",
    "\n",
    "$$ \\large V = \\text{constant} $$"
   ]
  },
  {
   "cell_type": "markdown",
   "metadata": {
    "id": "ANcdbcd-erF2"
   },
   "source": [
    "### Solution"
   ]
  },
  {
   "cell_type": "markdown",
   "metadata": {},
   "source": [
    "Let's start from infinity, where the electric potential is assumed to be 0, and move toward to this object.\n",
    "\n",
    "When the distance $r$ is far enough ($r > b$), the net charge can be considered as the sum of the point charge $Q$ and the net charge of the shell $q$, thus, the electric potential is\n",
    "\n",
    "$$ \\large V = \\frac{Q+q}{4\\pi\\epsilon_0 r}. $$\n",
    "\n",
    "When the distance is equal to $b$, which is the outer radius of the shell, then the electric potential on the outer surface is \n",
    "\n",
    "$$ \\large V = \\frac{Q+q}{4\\pi\\epsilon_0 b}. $$\n",
    "\n",
    "Since the electric potential in a conductor is constant, the electric potential inside the shell ($a < r < b$) is the same as the potential on the outer radius, therefore,\n",
    "\n",
    "$$ \\large V = \\frac{Q+q}{4\\pi\\epsilon_0 b}. $$"
   ]
  },
  {
   "cell_type": "markdown",
   "metadata": {
    "id": "imaOftYmimIH"
   },
   "source": [
    "### Answer"
   ]
  },
  {
   "cell_type": "markdown",
   "metadata": {},
   "source": [
    "(E) $ \\large \\frac{Q+q}{4\\pi \\epsilon_0 b} $"
   ]
  }
 ],
 "metadata": {
  "colab": {
   "authorship_tag": "ABX9TyP0x7xyz3pCTONWuernTYGe",
   "collapsed_sections": [],
   "name": "gr1777-002.ipynb",
   "provenance": []
  },
  "kernelspec": {
   "display_name": "Python 3",
   "language": "python",
   "name": "python3"
  },
  "language_info": {
   "codemirror_mode": {
    "name": "ipython",
    "version": 3
   },
   "file_extension": ".py",
   "mimetype": "text/x-python",
   "name": "python",
   "nbconvert_exporter": "python",
   "pygments_lexer": "ipython3",
   "version": "3.8.8"
  }
 },
 "nbformat": 4,
 "nbformat_minor": 1
}
