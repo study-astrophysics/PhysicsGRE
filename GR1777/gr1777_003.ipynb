{
 "cells": [
  {
   "cell_type": "markdown",
   "metadata": {
    "id": "vpUo0Q0hd9v_"
   },
   "source": [
    "# [GRE Physics GR 1777 Problem Solution](https://study-astrophysics.com/gr1777/)"
   ]
  },
  {
   "cell_type": "markdown",
   "metadata": {
    "id": "-or5-Q3GeYY6"
   },
   "source": [
    "## [003. Classical Mechanics (Oscillations)](https://study-astrophysics.com/gr1777-003/)"
   ]
  },
  {
   "cell_type": "markdown",
   "metadata": {
    "id": "KESf7wtaemhF"
   },
   "source": [
    "### You should know"
   ]
  },
  {
   "cell_type": "markdown",
   "metadata": {},
   "source": [
    "#### [Period of a simple pendulum](https://study-astrophysics.com/oscillations/)\n",
    "\n",
    "$$ \\large T = 2\\pi \\sqrt{\\frac{L}{g}} $$\n",
    "\n",
    "where \n",
    "\n",
    "$L$: length of the pendulum \n",
    "\n",
    "$g$: acceleration of gravity.\n",
    "\n",
    "Note that the period of a pendulum is independent of mass."
   ]
  },
  {
   "cell_type": "markdown",
   "metadata": {
    "id": "ANcdbcd-erF2"
   },
   "source": [
    "### Solution"
   ]
  },
  {
   "cell_type": "markdown",
   "metadata": {
    "id": "qQK205rXh9jo"
   },
   "source": [
    "From the above equation, we can see that $L \\propto T^2$.\n",
    "\n",
    "Since \n",
    "\n",
    "$$T_{B} = 2 T_{A} $$ \n",
    "\n",
    "$$T_{A} : T_{B} = 1 : 2,$$\n",
    "\n",
    "Then $L_{A} : L_{B} = T^2_{A} : T^2_{B} = 1 : 4$.\n",
    "\n",
    "Therefore \n",
    "\n",
    "$$L_{B} = 4 L_{A}.$$\n"
   ]
  },
  {
   "cell_type": "markdown",
   "metadata": {
    "id": "imaOftYmimIH"
   },
   "source": [
    "### Answer"
   ]
  },
  {
   "cell_type": "markdown",
   "metadata": {
    "id": "inJRYucrip0c"
   },
   "source": [
    "(E) $L_B = 4 L_A$"
   ]
  }
 ],
 "metadata": {
  "colab": {
   "authorship_tag": "ABX9TyP0x7xyz3pCTONWuernTYGe",
   "collapsed_sections": [],
   "name": "gr1777-002.ipynb",
   "provenance": []
  },
  "kernelspec": {
   "display_name": "Python 3",
   "language": "python",
   "name": "python3"
  },
  "language_info": {
   "codemirror_mode": {
    "name": "ipython",
    "version": 3
   },
   "file_extension": ".py",
   "mimetype": "text/x-python",
   "name": "python",
   "nbconvert_exporter": "python",
   "pygments_lexer": "ipython3",
   "version": "3.8.8"
  }
 },
 "nbformat": 4,
 "nbformat_minor": 1
}
