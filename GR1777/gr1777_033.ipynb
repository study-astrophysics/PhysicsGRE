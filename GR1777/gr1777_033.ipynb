{
 "cells": [
  {
   "cell_type": "markdown",
   "metadata": {
    "id": "vpUo0Q0hd9v_"
   },
   "source": [
    "# [GRE Physics GR 1777 Problem Solution](https://study-astrophysics.com/gr1777/)"
   ]
  },
  {
   "cell_type": "markdown",
   "metadata": {
    "id": "-or5-Q3GeYY6"
   },
   "source": [
    "## [033. Optics (Laser)](https://study-astrophysics.com/gr1777-033/)"
   ]
  },
  {
   "cell_type": "markdown",
   "metadata": {
    "id": "KESf7wtaemhF"
   },
   "source": [
    "### You should know"
   ]
  },
  {
   "cell_type": "markdown",
   "metadata": {},
   "source": [
    "- [Types of Lasers](https://study-astrophysics.com/laser/)\n",
    "\n",
    " - Diode laser: semiconductor (solid)\n",
    " - Dye laser: liquid\n",
    " - Free-electron laser: electron only\n",
    " - Gas laser: free atom\n",
    " - Solid-state laser: solid\n",
    "\n",
    "\n",
    "- [Dye laser](https://study-astrophysics.com/laser/)\n",
    "\n",
    "A dye laser can usually be used for a much wider range of wavelengths, often spanning 50 to 100 nanometers or more. The wide bandwidth makes them particularly suitable for tunable lasers and pulsed lasers. For instance, the dye rhodamine 6G can be tuned from 635 nm (orangish-red) to 560 nm (greenish-yellow), which is the visible wavelengths."
   ]
  },
  {
   "cell_type": "markdown",
   "metadata": {
    "id": "ANcdbcd-erF2"
   },
   "source": [
    "### Solution"
   ]
  },
  {
   "cell_type": "markdown",
   "metadata": {},
   "source": [
    "The best type of laser for the spectroscopy over a range of visible wavelenghs is a dye laser."
   ]
  },
  {
   "cell_type": "markdown",
   "metadata": {
    "id": "imaOftYmimIH"
   },
   "source": [
    "### Answer"
   ]
  },
  {
   "cell_type": "markdown",
   "metadata": {},
   "source": [
    "(A) a dye laser"
   ]
  }
 ],
 "metadata": {
  "colab": {
   "authorship_tag": "ABX9TyP0x7xyz3pCTONWuernTYGe",
   "collapsed_sections": [],
   "name": "gr1777-002.ipynb",
   "provenance": []
  },
  "kernelspec": {
   "display_name": "Python 3 (ipykernel)",
   "language": "python",
   "name": "python3"
  },
  "language_info": {
   "codemirror_mode": {
    "name": "ipython",
    "version": 3
   },
   "file_extension": ".py",
   "mimetype": "text/x-python",
   "name": "python",
   "nbconvert_exporter": "python",
   "pygments_lexer": "ipython3",
   "version": "3.8.2"
  }
 },
 "nbformat": 4,
 "nbformat_minor": 1
}
