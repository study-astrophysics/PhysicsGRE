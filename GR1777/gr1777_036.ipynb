{
 "cells": [
  {
   "cell_type": "markdown",
   "metadata": {
    "id": "vpUo0Q0hd9v_"
   },
   "source": [
    "# [GRE Physics GR 1777 Problem Solution](https://study-astrophysics.com/gr1777/)"
   ]
  },
  {
   "cell_type": "markdown",
   "metadata": {
    "id": "-or5-Q3GeYY6"
   },
   "source": [
    "## [036. Relativity (Energy-momentum Relation)](https://study-astrophysics.com/gr1777-036/)"
   ]
  },
  {
   "cell_type": "markdown",
   "metadata": {
    "id": "KESf7wtaemhF"
   },
   "source": [
    "### You should know"
   ]
  },
  {
   "cell_type": "markdown",
   "metadata": {},
   "source": [
    "#### [Energy-momentum Relation](https://study-astrophysics.com/relativistic-energy/)\n",
    "\n",
    "$$ \\large E^2 = (pc)^2 + (mc^2)^2 $$\n",
    "\n",
    "where\n",
    "\n",
    "$E$: total energy (relativistic energy)\n",
    "\n",
    "$p$: momentum of magnitude\n",
    "\n",
    "$m$: rest mass (invariant mass)\n",
    "\n",
    "$c$: speed of light"
   ]
  },
  {
   "cell_type": "markdown",
   "metadata": {
    "id": "ANcdbcd-erF2"
   },
   "source": [
    "### Solution"
   ]
  },
  {
   "cell_type": "markdown",
   "metadata": {},
   "source": [
    "Total energy $E$ = 5.0 GeV\n",
    "\n",
    "Momentum of magnitude $p$ = 4.9 GeV/c\n",
    "\n",
    "Then, \n",
    "\n",
    "$$ \\large \\begin{split} (m c^2)^2 & = E^2 - (pc)^2 \\\\\n",
    "\\\\\n",
    "& = (5.0 \\text{ GeV})^2 - (4.9 \\text{ GeV})^2 \\\\\n",
    "\\\\\n",
    "& = 25 - 24.01 \\text{ (GeV)}^2 \\\\\n",
    "\\\\\n",
    "& = 0.99 \\text{ (GeV)}^2\n",
    "\\end{split} $$\n",
    "\n",
    "Therefore, the rest mass of the particle is approximately\n",
    "\n",
    "$$ \\large m \\simeq 1.0 \\text{ GeV/c}^2 $$"
   ]
  },
  {
   "cell_type": "markdown",
   "metadata": {
    "id": "imaOftYmimIH"
   },
   "source": [
    "### Answer"
   ]
  },
  {
   "cell_type": "markdown",
   "metadata": {},
   "source": [
    "(D) 1.0 GeV/c$^2$"
   ]
  }
 ],
 "metadata": {
  "colab": {
   "authorship_tag": "ABX9TyP0x7xyz3pCTONWuernTYGe",
   "collapsed_sections": [],
   "name": "gr1777-002.ipynb",
   "provenance": []
  },
  "kernelspec": {
   "display_name": "Python 3 (ipykernel)",
   "language": "python",
   "name": "python3"
  },
  "language_info": {
   "codemirror_mode": {
    "name": "ipython",
    "version": 3
   },
   "file_extension": ".py",
   "mimetype": "text/x-python",
   "name": "python",
   "nbconvert_exporter": "python",
   "pygments_lexer": "ipython3",
   "version": "3.8.2"
  }
 },
 "nbformat": 4,
 "nbformat_minor": 1
}
