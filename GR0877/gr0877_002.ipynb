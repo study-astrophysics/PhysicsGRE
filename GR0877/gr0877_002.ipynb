{
 "cells": [
  {
   "cell_type": "markdown",
   "metadata": {
    "id": "vpUo0Q0hd9v_"
   },
   "source": [
    "# [GRE Physics GR0877 Problem Solution](https://study-astrophysics.com/gr0877/)"
   ]
  },
  {
   "cell_type": "markdown",
   "metadata": {},
   "source": [
    "---"
   ]
  },
  {
   "cell_type": "markdown",
   "metadata": {
    "id": "-or5-Q3GeYY6"
   },
   "source": [
    "## [002. Classical Mechanics (Free Fall Motion)](https://study-astrophysics.com/gr0877-002/)"
   ]
  },
  {
   "cell_type": "markdown",
   "metadata": {},
   "source": [
    "---"
   ]
  },
  {
   "cell_type": "markdown",
   "metadata": {
    "id": "KESf7wtaemhF"
   },
   "source": [
    "## You should know"
   ]
  },
  {
   "cell_type": "markdown",
   "metadata": {},
   "source": [
    "### Free Fall Motion\n",
    "\n",
    "\n",
    "When we ignore the air resistance, the position, velocity, and the acceleration are\n",
    "\n",
    "\n",
    "$$ \\large \\begin{align*}\n",
    "a(t) & \\ = \\ -g \\\\\n",
    "\\\\\n",
    "v(t) & \\ = \\ -g t \\\\\n",
    "\\\\\n",
    "h(t) & \\ = \\ h_0 - \\frac{1}{2} gt^2 \n",
    "\\end{align*} $$\n",
    "\n",
    "\n",
    "where\n",
    "\n",
    "\n",
    "- $a(t)$: acceleration after time $t$\n",
    "\n",
    "\n",
    "- $v(t)$: velocity after time $t$\n",
    "\n",
    "\n",
    "- $h(t$): height after time $t$\n",
    "\n",
    "\n",
    "- $h_0$: initial height\n",
    "\n",
    "\n",
    "- $t$: time passed\n",
    "\n",
    "\n",
    "- $g$: gravitational constant ($\\sim 9.8 \\text{ m/s}^2$)"
   ]
  },
  {
   "cell_type": "markdown",
   "metadata": {},
   "source": [
    "---"
   ]
  },
  {
   "cell_type": "markdown",
   "metadata": {
    "id": "ANcdbcd-erF2"
   },
   "source": [
    "## Solution"
   ]
  },
  {
   "cell_type": "markdown",
   "metadata": {},
   "source": [
    "Since the object hits the ground after 2 seconds, $t = 2$, $h(t=2) = 0$.\n",
    "\n",
    "Thus, the initial height is \n",
    "\n",
    "\n",
    "$$ \\large h_0 \\ = \\ h(t=2) + \\frac{1}{2} (9.8 \\text{ m/s}^2) (2 \\text{ sec})^2 = 19.6 \\text{ m.} $$\n",
    "\n",
    "\n",
    "Note that the horizontal velocity doesn't influence the free fall motion."
   ]
  },
  {
   "cell_type": "markdown",
   "metadata": {},
   "source": [
    "---"
   ]
  },
  {
   "cell_type": "markdown",
   "metadata": {
    "id": "imaOftYmimIH"
   },
   "source": [
    "## Answer"
   ]
  },
  {
   "cell_type": "markdown",
   "metadata": {},
   "source": [
    "(D) 19.6 m"
   ]
  }
 ],
 "metadata": {
  "colab": {
   "authorship_tag": "ABX9TyP0x7xyz3pCTONWuernTYGe",
   "collapsed_sections": [],
   "name": "gr1777-002.ipynb",
   "provenance": []
  },
  "kernelspec": {
   "display_name": "Python 3 (ipykernel)",
   "language": "python",
   "name": "python3"
  },
  "language_info": {
   "codemirror_mode": {
    "name": "ipython",
    "version": 3
   },
   "file_extension": ".py",
   "mimetype": "text/x-python",
   "name": "python",
   "nbconvert_exporter": "python",
   "pygments_lexer": "ipython3",
   "version": "3.9.12"
  }
 },
 "nbformat": 4,
 "nbformat_minor": 1
}
