{
 "cells": [
  {
   "cell_type": "markdown",
   "metadata": {
    "id": "vpUo0Q0hd9v_"
   },
   "source": [
    "# [GRE Physics GR0877 Problem Solution](https://study-astrophysics.com/gr0877/)"
   ]
  },
  {
   "cell_type": "markdown",
   "metadata": {},
   "source": [
    "---"
   ]
  },
  {
   "cell_type": "markdown",
   "metadata": {
    "id": "-or5-Q3GeYY6"
   },
   "source": [
    "## [001. Classical Mechanics (Newton's Laws)](https://study-astrophysics.com/gr0877-001/)"
   ]
  },
  {
   "cell_type": "markdown",
   "metadata": {},
   "source": [
    "---"
   ]
  },
  {
   "cell_type": "markdown",
   "metadata": {
    "id": "KESf7wtaemhF"
   },
   "source": [
    "## You should know"
   ]
  },
  {
   "cell_type": "markdown",
   "metadata": {},
   "source": [
    "### [Newton's First Law (Inertia)](https://study-astrophysics.com/newtons-laws/)\n",
    "\n",
    "An object at rest will stay at rest, and an object in motion will stay in motion unless acted on by a net force.\n",
    "\n",
    "Mathematically, this is equivalent to saying that if the net force on an object is zero, then the velocity of the object is constant.\n",
    "\n",
    "$$ \\large \\vec{F} \\ = \\ m\\frac{d\\vec{v}}{dt} \\ = \\ 0 \\quad \\quad \\rightarrow \\quad \\quad \\vec{v} \\ = \\ \\text{constant.} $$"
   ]
  },
  {
   "cell_type": "markdown",
   "metadata": {},
   "source": [
    "---"
   ]
  },
  {
   "cell_type": "markdown",
   "metadata": {
    "id": "ANcdbcd-erF2"
   },
   "source": [
    "## Solution"
   ]
  },
  {
   "cell_type": "markdown",
   "metadata": {},
   "source": [
    "Since there is no force acting on the ball after it was thrown, the ball will stay in motion according to Newton's first law.\n",
    "\n",
    "The ball is thrown out of the moving car, it has the same velocity as those of the car. And the direction is the same as those of the car as well (Inertia). \n",
    "\n",
    "Plus, the motion perpendicular to the velocity of the car must be taken into account. When we add both velocities, then the motion must be the same as (B) assuming no air resistance."
   ]
  },
  {
   "cell_type": "markdown",
   "metadata": {},
   "source": [
    "---"
   ]
  },
  {
   "cell_type": "markdown",
   "metadata": {
    "id": "imaOftYmimIH"
   },
   "source": [
    "## Answer"
   ]
  },
  {
   "cell_type": "markdown",
   "metadata": {},
   "source": [
    "(B)"
   ]
  }
 ],
 "metadata": {
  "colab": {
   "authorship_tag": "ABX9TyP0x7xyz3pCTONWuernTYGe",
   "collapsed_sections": [],
   "name": "gr1777-002.ipynb",
   "provenance": []
  },
  "kernelspec": {
   "display_name": "Python 3 (ipykernel)",
   "language": "python",
   "name": "python3"
  },
  "language_info": {
   "codemirror_mode": {
    "name": "ipython",
    "version": 3
   },
   "file_extension": ".py",
   "mimetype": "text/x-python",
   "name": "python",
   "nbconvert_exporter": "python",
   "pygments_lexer": "ipython3",
   "version": "3.9.7"
  }
 },
 "nbformat": 4,
 "nbformat_minor": 1
}
