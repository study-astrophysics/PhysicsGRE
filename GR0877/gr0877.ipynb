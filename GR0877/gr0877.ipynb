{
 "cells": [
  {
   "cell_type": "markdown",
   "id": "45f2d958",
   "metadata": {},
   "source": [
    "# GRE Physics"
   ]
  },
  {
   "cell_type": "markdown",
   "id": "15558666",
   "metadata": {},
   "source": [
    "---"
   ]
  },
  {
   "cell_type": "markdown",
   "id": "d7a0719d",
   "metadata": {},
   "source": [
    "# [GRE Physics GR0877 Solutions](https://study-astrophysics.com/gr0877/)"
   ]
  },
  {
   "cell_type": "markdown",
   "id": "cae03b4f",
   "metadata": {},
   "source": [
    "---"
   ]
  },
  {
   "cell_type": "markdown",
   "id": "15fdda28",
   "metadata": {},
   "source": [
    "001|002|003|004|005|006|007|008|009|010\n",
    ":-:|:-:|:-:|:-:|:-:|:-:|:-:|:-:|:-:|:-:\n",
    "011|012|013|014|015|016|017|018|019|020\n",
    "021|022|023|024|025|026|027|028|029|030\n",
    "031|032|033|034|035|036|037|038|039|040\n",
    "041|042|043|044|045|046|047|048|049|050\n",
    "051|052|053|054|055|056|057|058|059|060\n",
    "061|062|063|064|065|066|067|068|069|070\n",
    "071|072|073|074|075|076|077|078|079|080\n",
    "081|082|083|084|085|086|087|088|089|090\n",
    "091|092|093|094|095|096|097|098|099|100"
   ]
  },
  {
   "cell_type": "markdown",
   "id": "83cd1887",
   "metadata": {},
   "source": [
    "---"
   ]
  }
 ],
 "metadata": {
  "kernelspec": {
   "display_name": "Python 3 (ipykernel)",
   "language": "python",
   "name": "python3"
  },
  "language_info": {
   "codemirror_mode": {
    "name": "ipython",
    "version": 3
   },
   "file_extension": ".py",
   "mimetype": "text/x-python",
   "name": "python",
   "nbconvert_exporter": "python",
   "pygments_lexer": "ipython3",
   "version": "3.9.7"
  }
 },
 "nbformat": 4,
 "nbformat_minor": 5
}
